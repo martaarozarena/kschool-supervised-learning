{
 "nbformat": 4,
 "nbformat_minor": 2,
 "metadata": {
  "language_info": {
   "name": "python",
   "codemirror_mode": {
    "name": "ipython",
    "version": 3
   },
   "version": "3.7.6-final"
  },
  "orig_nbformat": 2,
  "file_extension": ".py",
  "mimetype": "text/x-python",
  "name": "python",
  "npconvert_exporter": "python",
  "pygments_lexer": "ipython3",
  "version": 3,
  "kernelspec": {
   "name": "ks-sl",
   "display_name": "ks-sl"
  }
 },
 "cells": [
  {
   "cell_type": "markdown",
   "execution_count": null,
   "metadata": {},
   "outputs": [],
   "source": [
    "# Datasets en Scikit-Learn - Conversión a Pandas dataframes\n",
    "\n",
    "Scikit-Learn incluye un paquete llamado `sklearn.datasets` que embebe algunos datasets de aprendizaje de Machine Learning. Éstos se devuelven en un tipo `Bunch`, que no es más que un objeto tipo diccionario, donde los atributos interesantes son:\n",
    "\n",
    " - `data`: los datos para aprendizaje\n",
    " - `target`: las etiquetas de clasificación\n",
    " - `target_names`: los significados de las etiquetas\n",
    " - `feature_names`: la descripción de las características\n",
    " - `DESCR`: la descripción completa del dataset\n",
    "\n",
    "Dos de los datasets embebidos de ejemplo que incluye Scikit-Learn y que usamos en clase se pueden cargar con los utilidades de carga de datasets `load_boston` y `load_breast_cancer`. Éstas utilidades son las que devuelven un objeto tipo bunch cuando son utilizadas, y con los atributos antes mencionados, la gestión de los datos del dataset es sencilla.\n",
    "\n",
    "Si no obstante se prefieren utilizar dataframes de Pandas para la gestión de los diferentes datos del dataset, podemos hacer una conversión aprovechando dichos atributos y manejando debidamente el formato en el que debe crearse un DataFrame en Pandas.\n",
    "\n",
    "Usamos de ejemplo el dataset de Boston Housing a través de su utilidad de carga `load_boston` en el código que viene a continuación. La conversión de cualquier otro dataset cargado con Scikit-Learn sería similar a ésta:\n"
   ]
  },
  {
   "cell_type": "code",
   "execution_count": null,
   "metadata": {},
   "outputs": [],
   "source": [
    "# Importamos los módulos necesarios\n",
    "from sklearn.datasets import load_boston\n",
    "import numpy as np\n",
    "import pandas as pd"
   ]
  },
  {
   "cell_type": "markdown",
   "execution_count": null,
   "metadata": {},
   "outputs": [],
   "source": [
    "Cargamos el boston housing dataset y mostramos su descripción:"
   ]
  },
  {
   "cell_type": "code",
   "execution_count": null,
   "metadata": {},
   "outputs": [],
   "source": [
    "boston_data = load_boston()\n",
    "print(boston_data.DESCR)"
   ]
  },
  {
   "cell_type": "markdown",
   "execution_count": null,
   "metadata": {},
   "outputs": [],
   "source": [
    "Comprobamos que la utilidad de carga nos ha devuelto efectivamente un objeto tipo bunch:"
   ]
  },
  {
   "cell_type": "code",
   "execution_count": null,
   "metadata": {},
   "outputs": [],
   "source": [
    "type(boston_data)"
   ]
  },
  {
   "cell_type": "markdown",
   "execution_count": null,
   "metadata": {},
   "outputs": [],
   "source": [
    "Obtenemos los nombres de las características del dataset por separado, que también venían descritas en la información contenida en el atributo `DESCR`:"
   ]
  },
  {
   "cell_type": "code",
   "execution_count": null,
   "metadata": {},
   "outputs": [],
   "source": [
    "print(boston_data.feature_names)"
   ]
  },
  {
   "cell_type": "markdown",
   "execution_count": null,
   "metadata": {},
   "outputs": [],
   "source": [
    "Accedemos el atributo `data` del diccionario (`Bunch`) `data` para obtener los datos de las muestras del dataset:"
   ]
  },
  {
   "cell_type": "code",
   "execution_count": null,
   "metadata": {},
   "outputs": [],
   "source": [
    "boston_data.data"
   ]
  },
  {
   "cell_type": "markdown",
   "execution_count": null,
   "metadata": {},
   "outputs": [],
   "source": [
    "También accedemos a la información de las etiquetas; en este caso es una única etiqueta:"
   ]
  },
  {
   "cell_type": "code",
   "execution_count": null,
   "metadata": {},
   "outputs": [],
   "source": [
    "boston_data.target"
   ]
  },
  {
   "cell_type": "markdown",
   "execution_count": null,
   "metadata": {},
   "outputs": [],
   "source": [
    "El tipo array no existe en Python, podemos ver que en realidad los arrays que nos están devolviendo los atributos del objeto bunch son Numpy arrays:"
   ]
  },
  {
   "cell_type": "code",
   "execution_count": null,
   "metadata": {},
   "outputs": [],
   "source": [
    "type(boston_data.target)"
   ]
  },
  {
   "cell_type": "markdown",
   "execution_count": null,
   "metadata": {},
   "outputs": [],
   "source": [
    "Por último, nos apoyamos en Numpy para crear un DataFrame de Pandas con la forma que queremos, que es una tabla con las muestras y las etiquetas correspondientes"
   ]
  },
  {
   "cell_type": "code",
   "execution_count": null,
   "metadata": {},
   "outputs": [],
   "source": [
    "df_boston = pd.DataFrame(np.column_stack((boston_data.data, boston_data.target)),columns = np.append(boston_data.feature_names,['TARGET']))\n",
    "df_boston.head()"
   ]
  }
 ]
}